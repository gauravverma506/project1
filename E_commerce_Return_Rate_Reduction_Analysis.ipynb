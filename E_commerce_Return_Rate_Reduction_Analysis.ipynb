{
  "nbformat": 4,
  "nbformat_minor": 0,
  "metadata": {
    "colab": {
      "provenance": []
    },
    "kernelspec": {
      "name": "python3",
      "display_name": "Python 3"
    },
    "language_info": {
      "name": "python"
    }
  },
  "cells": [
    {
      "cell_type": "markdown",
      "source": [
        "### Step 1: Data Cleaning (Python / SQL)"
      ],
      "metadata": {
        "id": "Vk8pi6bx1Bc0"
      }
    },
    {
      "cell_type": "code",
      "source": [
        "import pandas as pd\n",
        "\n",
        "# Load dataset\n",
        "df = pd.read_csv(\"ecommerce_data.csv\")\n",
        "\n",
        "# Drop duplicates and missing values\n",
        "df.drop_duplicates(inplace=True)\n",
        "df.dropna(subset=['ProductID', 'Category', 'ReturnFlag'], inplace=True)\n",
        "\n",
        "# Standardize column names\n",
        "df.columns = df.columns.str.strip().str.lower()"
      ],
      "metadata": {
        "id": "LhD9iOGJ1EEt"
      },
      "execution_count": null,
      "outputs": []
    },
    {
      "cell_type": "markdown",
      "source": [
        "### Step 2: Analyze Return % (Python)"
      ],
      "metadata": {
        "id": "xC9xKus81JjR"
      }
    },
    {
      "cell_type": "code",
      "source": [
        "# Return rate per category\n",
        "category_returns = df.groupby('category')['returnflag'].mean().reset_index()\n",
        "category_returns.columns = ['category', 'return_rate']\n",
        "print(category_returns)\n",
        "\n",
        "# Return rate per supplier\n",
        "supplier_returns = df.groupby('supplier')['returnflag'].mean().reset_index()\n",
        "supplier_returns.columns = ['supplier', 'return_rate']\n",
        "print(supplier_returns)"
      ],
      "metadata": {
        "colab": {
          "base_uri": "https://localhost:8080/"
        },
        "id": "D9IOr_461MPn",
        "outputId": "31f055f8-ee7e-49bb-9f0a-67fc529e8fbd"
      },
      "execution_count": null,
      "outputs": [
        {
          "output_type": "stream",
          "name": "stdout",
          "text": [
            "         category  return_rate\n",
            "0         Apparel     0.200000\n",
            "1          Beauty     0.224490\n",
            "2     Electronics     0.348837\n",
            "3  Home & Kitchen     0.216216\n",
            "4          Sports     0.277778\n",
            "    supplier  return_rate\n",
            "0  SupplierA     0.148936\n",
            "1  SupplierB     0.261905\n",
            "2  SupplierC     0.311111\n",
            "3  SupplierD     0.287879\n"
          ]
        }
      ]
    },
    {
      "cell_type": "code",
      "source": [
        "category_returns = df.groupby('category')['returnflag'].mean()\n",
        "supplier_returns = df.groupby('supplier')['returnflag'].mean()"
      ],
      "metadata": {
        "id": "LFEHrPgQ2a0-"
      },
      "execution_count": null,
      "outputs": []
    },
    {
      "cell_type": "markdown",
      "source": [
        "### Step 3: Predict Return Probability (Logistic Regression)"
      ],
      "metadata": {
        "id": "ecgjnYBA1Q_m"
      }
    },
    {
      "cell_type": "code",
      "source": [
        "from sklearn.model_selection import train_test_split\n",
        "from sklearn.linear_model import LogisticRegression\n",
        "from sklearn.preprocessing import OneHotEncoder\n",
        "from sklearn.metrics import classification_report\n",
        "\n",
        "# Feature Engineering\n",
        "features = df[['category', 'region', 'marketingchannel', 'price', 'quantity']]\n",
        "target = df['returnflag']\n",
        "\n",
        "# One-hot encoding for categorical features\n",
        "features_encoded = pd.get_dummies(features)\n",
        "\n",
        "# Split data\n",
        "X_train, X_test, y_train, y_test = train_test_split(features_encoded, target, test_size=0.2, random_state=42)\n",
        "\n",
        "# Train model\n",
        "model = LogisticRegression(max_iter=1000)\n",
        "model.fit(X_train, y_train)\n",
        "\n",
        "# Evaluate\n",
        "y_pred = model.predict(X_test)\n",
        "print(classification_report(y_test, y_pred))\n",
        "\n",
        "# Add return risk score to original data\n",
        "df['return_risk_score'] = model.predict_proba(features_encoded)[:,1]"
      ],
      "metadata": {
        "colab": {
          "base_uri": "https://localhost:8080/"
        },
        "id": "6nqFYhiU1R6I",
        "outputId": "1f21bdf0-a9ec-4193-e1a8-145e34843515"
      },
      "execution_count": null,
      "outputs": [
        {
          "output_type": "stream",
          "name": "stdout",
          "text": [
            "              precision    recall  f1-score   support\n",
            "\n",
            "           0       0.68      1.00      0.81        27\n",
            "           1       0.00      0.00      0.00        13\n",
            "\n",
            "    accuracy                           0.68        40\n",
            "   macro avg       0.34      0.50      0.40        40\n",
            "weighted avg       0.46      0.68      0.54        40\n",
            "\n"
          ]
        },
        {
          "output_type": "stream",
          "name": "stderr",
          "text": [
            "/usr/local/lib/python3.11/dist-packages/sklearn/metrics/_classification.py:1565: UndefinedMetricWarning: Precision is ill-defined and being set to 0.0 in labels with no predicted samples. Use `zero_division` parameter to control this behavior.\n",
            "  _warn_prf(average, modifier, f\"{metric.capitalize()} is\", len(result))\n",
            "/usr/local/lib/python3.11/dist-packages/sklearn/metrics/_classification.py:1565: UndefinedMetricWarning: Precision is ill-defined and being set to 0.0 in labels with no predicted samples. Use `zero_division` parameter to control this behavior.\n",
            "  _warn_prf(average, modifier, f\"{metric.capitalize()} is\", len(result))\n",
            "/usr/local/lib/python3.11/dist-packages/sklearn/metrics/_classification.py:1565: UndefinedMetricWarning: Precision is ill-defined and being set to 0.0 in labels with no predicted samples. Use `zero_division` parameter to control this behavior.\n",
            "  _warn_prf(average, modifier, f\"{metric.capitalize()} is\", len(result))\n"
          ]
        }
      ]
    },
    {
      "cell_type": "code",
      "source": [
        "model.predict_proba(features_encoded)[:, 1]"
      ],
      "metadata": {
        "colab": {
          "base_uri": "https://localhost:8080/"
        },
        "id": "8qbXxMBz2n7T",
        "outputId": "ef84b498-a0ca-49fd-8635-19ab6217705e"
      },
      "execution_count": null,
      "outputs": [
        {
          "output_type": "execute_result",
          "data": {
            "text/plain": [
              "array([0.17619777, 0.24501004, 0.21948847, 0.27276412, 0.26513456,\n",
              "       0.14237094, 0.45148549, 0.23248181, 0.21858272, 0.19378506,\n",
              "       0.28575316, 0.19394147, 0.19716559, 0.34919731, 0.1810784 ,\n",
              "       0.18006362, 0.36983195, 0.16157819, 0.16933468, 0.2295862 ,\n",
              "       0.18947333, 0.21796479, 0.28293448, 0.16955661, 0.1785513 ,\n",
              "       0.10914687, 0.4019209 , 0.25257234, 0.11675247, 0.26160305,\n",
              "       0.34782323, 0.32659467, 0.22416935, 0.21329347, 0.14390412,\n",
              "       0.13382068, 0.14699963, 0.45204798, 0.29357124, 0.19003947,\n",
              "       0.28974567, 0.11559172, 0.18570855, 0.11284231, 0.38437314,\n",
              "       0.42322024, 0.17092412, 0.14432664, 0.12460843, 0.12794632,\n",
              "       0.34311363, 0.25252993, 0.20908718, 0.1321266 , 0.4459766 ,\n",
              "       0.3701017 , 0.182214  , 0.16463694, 0.13264434, 0.34166895,\n",
              "       0.21948369, 0.36734622, 0.1192728 , 0.20542284, 0.2170624 ,\n",
              "       0.33206628, 0.24698689, 0.30668415, 0.42783167, 0.12000036,\n",
              "       0.42699788, 0.30188781, 0.25766448, 0.15084352, 0.17991869,\n",
              "       0.10901663, 0.22108738, 0.14767016, 0.26606708, 0.24229263,\n",
              "       0.17981908, 0.31060737, 0.29082335, 0.3959636 , 0.23943498,\n",
              "       0.25488127, 0.19557299, 0.13315607, 0.19237251, 0.25618484,\n",
              "       0.25997918, 0.37858057, 0.09946475, 0.27501854, 0.17448387,\n",
              "       0.46249113, 0.24575081, 0.27435158, 0.42173864, 0.24726375,\n",
              "       0.15147518, 0.28517697, 0.38255297, 0.16716893, 0.23168419,\n",
              "       0.2221287 , 0.30397834, 0.25927799, 0.26496637, 0.23297733,\n",
              "       0.29667854, 0.09824507, 0.40487431, 0.2414665 , 0.22360165,\n",
              "       0.26863913, 0.15310134, 0.25416719, 0.33915431, 0.10303357,\n",
              "       0.16750583, 0.15052993, 0.27534266, 0.23472767, 0.21256497,\n",
              "       0.22310523, 0.25122332, 0.11586948, 0.44971394, 0.12186573,\n",
              "       0.17578847, 0.27332052, 0.24794931, 0.23280476, 0.12159743,\n",
              "       0.3758046 , 0.14425879, 0.46214181, 0.2142303 , 0.44823718,\n",
              "       0.22204405, 0.36974345, 0.20011529, 0.16304273, 0.33342695,\n",
              "       0.1443817 , 0.34903678, 0.25786131, 0.33667802, 0.33542384,\n",
              "       0.15971229, 0.22300725, 0.13393614, 0.25978027, 0.22708859,\n",
              "       0.14787335, 0.10189118, 0.16797682, 0.41223784, 0.21692238,\n",
              "       0.51245504, 0.36388912, 0.14013873, 0.12904754, 0.4292707 ,\n",
              "       0.43864436, 0.19411679, 0.23242956, 0.13193096, 0.15958695,\n",
              "       0.20614164, 0.36886118, 0.45301386, 0.19956461, 0.23112699,\n",
              "       0.13085644, 0.14762255, 0.12856629, 0.44839171, 0.34003909,\n",
              "       0.1814597 , 0.17329901, 0.27475585, 0.19872213, 0.20444737,\n",
              "       0.13425874, 0.24664177, 0.15028378, 0.12317239, 0.26721666,\n",
              "       0.40315201, 0.32302814, 0.34324092, 0.22817534, 0.34247663,\n",
              "       0.29023927, 0.529684  , 0.16296498, 0.26692358, 0.25018143])"
            ]
          },
          "metadata": {},
          "execution_count": 7
        }
      ]
    },
    {
      "cell_type": "code",
      "source": [
        "high_risk = df[df['return_risk_score'] > 0.7]\n",
        "high_risk[['productid', 'return_risk_score']].to_csv('high_risk_products.csv', index=False)"
      ],
      "metadata": {
        "id": "NfydTFM61YhU"
      },
      "execution_count": null,
      "outputs": []
    },
    {
      "cell_type": "code",
      "source": [
        "df['return_risk_score'] = model.predict_proba(features_encoded)[:,1]\n",
        "high_risk = df[df['return_risk_score'] > 0.7]\n",
        "high_risk.to_csv('high_risk_products.csv', index=False)"
      ],
      "metadata": {
        "id": "NSxtKHF12wtx"
      },
      "execution_count": null,
      "outputs": []
    }
  ]
}